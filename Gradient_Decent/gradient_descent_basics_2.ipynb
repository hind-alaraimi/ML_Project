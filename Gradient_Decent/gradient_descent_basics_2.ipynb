{
 "cells": [
  {
   "cell_type": "code",
   "execution_count": 1,
   "metadata": {},
   "outputs": [],
   "source": [
    "import numpy as np\n",
    "from sklearn.linear_model import LinearRegression\n",
    "from sklearn.linear_model import SGDRegressor\n",
    "from matplotlib import pyplot as plt\n",
    "from sklearn.metrics import mean_squared_error\n",
    "import pandas as pd\n",
    "\n",
    "import plotly.graph_objs as go\n",
    "from plotly.offline import init_notebook_mode, iplot\n",
    "import plotly.io as pio\n",
    "pio.renderers.default = 'iframe'"
   ]
  },
  {
   "cell_type": "code",
   "execution_count": 2,
   "metadata": {},
   "outputs": [],
   "source": [
    "import warnings\n",
    "warnings.filterwarnings(\"ignore\")"
   ]
  },
  {
   "cell_type": "code",
   "execution_count": null,
   "metadata": {},
   "outputs": [],
   "source": []
  },
  {
   "cell_type": "code",
   "execution_count": 3,
   "metadata": {},
   "outputs": [],
   "source": [
    "X = 2 * np.random.rand(1000, 1)\n",
    "y = 4 + 3 * X "
   ]
  },
  {
   "cell_type": "code",
   "execution_count": 4,
   "metadata": {},
   "outputs": [],
   "source": [
    "GD_model = SGDRegressor(max_iter=1, eta0=0.0001, warm_start=True)"
   ]
  },
  {
   "cell_type": "code",
   "execution_count": 5,
   "metadata": {},
   "outputs": [
    {
     "name": "stdout",
     "output_type": "stream",
     "text": [
      "Itteration Number: 0, Param (1): 0.18396618778938328, Param (2): 0.16142218006617512, MSE: 46.75320620266479\n",
      "Itteration Number: 1, Param (1): 0.3593716570342565, Param (2): 0.3150383811906591, MSE: 42.182721307851025\n",
      "Itteration Number: 2, Param (1): 0.5234095573391275, Param (2): 0.46043925567351335, MSE: 38.10098684398194\n",
      "Itteration Number: 3, Param (1): 0.679471589958668, Param (2): 0.5988273539165128, MSE: 34.41056103162077\n",
      "Itteration Number: 4, Param (1): 0.8274031124005242, Param (2): 0.7303163357655722, MSE: 31.083271402157685\n",
      "Itteration Number: 5, Param (1): 0.9686228463418723, Param (2): 0.8555827731589665, MSE: 28.068142293553255\n",
      "Itteration Number: 6, Param (1): 1.1013290176303465, Param (2): 0.9743896669539717, MSE: 25.36493237677575\n",
      "Itteration Number: 7, Param (1): 1.2292987442748926, Param (2): 1.0879427142811984, MSE: 22.898009079501232\n",
      "Itteration Number: 8, Param (1): 1.3502595711226082, Param (2): 1.1958566842207843, MSE: 20.677776779448624\n",
      "Itteration Number: 9, Param (1): 1.4635802438753605, Param (2): 1.2981183287631075, MSE: 18.691336711228825\n",
      "Itteration Number: 10, Param (1): 1.5723724631506129, Param (2): 1.395750838160817, MSE: 16.883708190751904\n",
      "Itteration Number: 11, Param (1): 1.673757972331969, Param (2): 1.4881597983048374, MSE: 15.271656931416857\n",
      "Itteration Number: 12, Param (1): 1.7720061479355476, Param (2): 1.5766411225210457, MSE: 13.795114271610986\n",
      "Itteration Number: 13, Param (1): 1.8660422351902697, Param (2): 1.660969168901911, MSE: 12.455378519495003\n",
      "Itteration Number: 14, Param (1): 1.9537269134480433, Param (2): 1.7408737220959007, MSE: 11.260072707511705\n",
      "Itteration Number: 15, Param (1): 2.037642834051768, Param (2): 1.8170529252765797, MSE: 10.175105459957827\n",
      "Itteration Number: 16, Param (1): 2.1169500661791263, Param (2): 1.8894835380961368, MSE: 9.198311995515516\n",
      "Itteration Number: 17, Param (1): 2.192525058487628, Param (2): 1.9585184376843525, MSE: 8.313946576954896\n",
      "Itteration Number: 18, Param (1): 2.2638757650882524, Param (2): 2.0241537985820273, MSE: 7.518206825407909\n",
      "Itteration Number: 19, Param (1): 2.3312518261691224, Param (2): 2.086592589644226, MSE: 6.801816305638582\n",
      "Itteration Number: 20, Param (1): 2.395848424691417, Param (2): 2.1461727893685016, MSE: 6.1506970567251935\n",
      "Itteration Number: 21, Param (1): 2.4570576997340776, Param (2): 2.2028673504985212, MSE: 5.563484778762018\n",
      "Itteration Number: 22, Param (1): 2.5148498861477764, Param (2): 2.2568205037864484, MSE: 5.034849353390207\n",
      "Itteration Number: 23, Param (1): 2.569625851185117, Param (2): 2.308183387736406, MSE: 4.557839664319248\n",
      "Itteration Number: 24, Param (1): 2.6208331548691532, Param (2): 2.3570138014703867, MSE: 4.130701462653028\n",
      "Itteration Number: 25, Param (1): 2.6701098253450555, Param (2): 2.4036528272132864, MSE: 3.7414704665489835\n",
      "Itteration Number: 26, Param (1): 2.7166718253872886, Param (2): 2.4480651309449266, MSE: 3.390735754073765\n",
      "Itteration Number: 27, Param (1): 2.7608989292362027, Param (2): 2.4904005471226456, MSE: 3.0736547984374085\n",
      "Itteration Number: 28, Param (1): 2.8032887745283177, Param (2): 2.530784749157432, MSE: 2.785606686377373\n",
      "Itteration Number: 29, Param (1): 2.842725024857727, Param (2): 2.5692021011090165, MSE: 2.528257800534826\n",
      "Itteration Number: 30, Param (1): 2.8799020274542406, Param (2): 2.6058197843034976, MSE: 2.296432883683752\n",
      "Itteration Number: 31, Param (1): 2.9154911781069397, Param (2): 2.6407652551751064, MSE: 2.085838995215736\n",
      "Itteration Number: 32, Param (1): 2.948727358271496, Param (2): 2.6740735653371894, MSE: 1.8970178819990704\n",
      "Itteration Number: 33, Param (1): 2.9804191306852705, Param (2): 2.705862836321512, MSE: 1.725790245725883\n",
      "Itteration Number: 34, Param (1): 3.0108701135295464, Param (2): 2.7361930225868774, MSE: 1.569990745809992\n",
      "Itteration Number: 35, Param (1): 3.0393444134241885, Param (2): 2.7651315046831986, MSE: 1.4301361569683682\n",
      "Itteration Number: 36, Param (1): 3.0665522791967748, Param (2): 2.7927383773221015, MSE: 1.3032382264099707\n",
      "Itteration Number: 37, Param (1): 3.092143498165957, Param (2): 2.8190941773030174, MSE: 1.1889408419912975\n",
      "Itteration Number: 38, Param (1): 3.116275303765143, Param (2): 2.844264074611072, MSE: 1.0858226716855006\n",
      "Itteration Number: 39, Param (1): 3.139412929003611, Param (2): 2.8682577616960456, MSE: 0.9921374652430863\n",
      "Itteration Number: 40, Param (1): 3.1609306459621145, Param (2): 2.8912245576252893, MSE: 0.9080609159411251\n",
      "Itteration Number: 41, Param (1): 3.1814786594209195, Param (2): 2.913131024262259, MSE: 0.8317844743477387\n",
      "Itteration Number: 42, Param (1): 3.200688360928812, Param (2): 2.934107382087845, MSE: 0.763115287057431\n",
      "Itteration Number: 43, Param (1): 3.219006973047801, Param (2): 2.9541188677460055, MSE: 0.7008420010111008\n",
      "Itteration Number: 44, Param (1): 3.23628609162552, Param (2): 2.9732567614889076, MSE: 0.6445735411530177\n",
      "Itteration Number: 45, Param (1): 3.2525571541074383, Param (2): 2.9915687366467933, MSE: 0.5937436738598676\n",
      "Itteration Number: 46, Param (1): 3.267825023420674, Param (2): 3.0091248619561304, MSE: 0.5478332918950103\n",
      "Itteration Number: 47, Param (1): 3.282367262608948, Param (2): 3.0258663816263827, MSE: 0.5062167917017726\n",
      "Itteration Number: 48, Param (1): 3.296075874114877, Param (2): 3.041895038708669, MSE: 0.4685719703893175\n",
      "Itteration Number: 49, Param (1): 3.308991061635676, Param (2): 3.057243554795916, MSE: 0.43451712107103835\n",
      "Itteration Number: 50, Param (1): 3.321203359835517, Param (2): 3.071913621621764, MSE: 0.40369041890224083\n",
      "Itteration Number: 51, Param (1): 3.332622046138581, Param (2): 3.08602312679293, MSE: 0.37580101826954276\n",
      "Itteration Number: 52, Param (1): 3.3433866634253184, Param (2): 3.0995360059798154, MSE: 0.350540940476582\n",
      "Itteration Number: 53, Param (1): 3.3535457647390152, Param (2): 3.1124203166461233, MSE: 0.3277084601814003\n",
      "Itteration Number: 54, Param (1): 3.3630048474678924, Param (2): 3.124945139520054, MSE: 0.30691918503925714\n",
      "Itteration Number: 55, Param (1): 3.371940210278899, Param (2): 3.1368532238656766, MSE: 0.288144375832163\n",
      "Itteration Number: 56, Param (1): 3.380315131913191, Param (2): 3.1483169760187613, MSE: 0.2710950072682176\n",
      "Itteration Number: 57, Param (1): 3.388229647021419, Param (2): 3.1592992521062717, MSE: 0.2556114348638536\n",
      "Itteration Number: 58, Param (1): 3.3956474079277785, Param (2): 3.1698959796456103, MSE: 0.24151850886710127\n",
      "Itteration Number: 59, Param (1): 3.402646946718304, Param (2): 3.179972061164811, MSE: 0.22878236446865818\n",
      "Itteration Number: 60, Param (1): 3.4090996995179075, Param (2): 3.1897218175089335, MSE: 0.2172133854693598\n",
      "Itteration Number: 61, Param (1): 3.4152015433796907, Param (2): 3.199082686648181, MSE: 0.20667083113572374\n",
      "Itteration Number: 62, Param (1): 3.4209038001169723, Param (2): 3.2081048754254655, MSE: 0.19706730871277062\n",
      "Itteration Number: 63, Param (1): 3.426270849294005, Param (2): 3.2167368876208235, MSE: 0.1883423062306275\n",
      "Itteration Number: 64, Param (1): 3.4312390010338056, Param (2): 3.225127085388365, MSE: 0.1803548328607884\n",
      "Itteration Number: 65, Param (1): 3.4358845948893117, Param (2): 3.2332159866232795, MSE: 0.17306067892983873\n",
      "Itteration Number: 66, Param (1): 3.440170598929981, Param (2): 3.2409078644345435, MSE: 0.16648366015094013\n",
      "Itteration Number: 67, Param (1): 3.444139964888926, Param (2): 3.248255108209774, MSE: 0.1605201962992336\n",
      "Itteration Number: 68, Param (1): 3.4477483511772737, Param (2): 3.2554479364431415, MSE: 0.15502278568186223\n",
      "Itteration Number: 69, Param (1): 3.45110013370576, Param (2): 3.262443033726759, MSE: 0.14995158717597692\n",
      "Itteration Number: 70, Param (1): 3.454264086538821, Param (2): 3.269156653924209, MSE: 0.14530581524641967\n",
      "Itteration Number: 71, Param (1): 3.457154059933939, Param (2): 3.2756603031896647, MSE: 0.14103834986964406\n",
      "Itteration Number: 72, Param (1): 3.459783595257827, Param (2): 3.2819272568356377, MSE: 0.13713141740662077\n",
      "Itteration Number: 73, Param (1): 3.462186401847883, Param (2): 3.2878786205159347, MSE: 0.13359026180460767\n",
      "Itteration Number: 74, Param (1): 3.46440224246799, Param (2): 3.2937494548309467, MSE: 0.13026496034821355\n",
      "Itteration Number: 75, Param (1): 3.4664150643111435, Param (2): 3.299366820090713, MSE: 0.12722595932158257\n",
      "Itteration Number: 76, Param (1): 3.4682432768000018, Param (2): 3.304819438955794, MSE: 0.12440830207246138\n",
      "Itteration Number: 77, Param (1): 3.469879213955389, Param (2): 3.31006036657005, MSE: 0.1218179456869281\n",
      "Itteration Number: 78, Param (1): 3.4713508597957183, Param (2): 3.315184800956762, MSE: 0.1193933308277548\n",
      "Itteration Number: 79, Param (1): 3.472670185668254, Param (2): 3.3202003609344133, MSE: 0.11711845756203722\n",
      "Itteration Number: 80, Param (1): 3.473817623749945, Param (2): 3.3250278777876177, MSE: 0.11501696195101052\n",
      "Itteration Number: 81, Param (1): 3.4747959007601463, Param (2): 3.3297016340761285, MSE: 0.113061836420769\n",
      "Itteration Number: 82, Param (1): 3.4757128716152272, Param (2): 3.33423857628043, MSE: 0.11122784093502067\n",
      "Itteration Number: 83, Param (1): 3.476418366768698, Param (2): 3.3386013714384823, MSE: 0.1095311099181025\n",
      "Itteration Number: 84, Param (1): 3.4770143800325033, Param (2): 3.3429721467744904, MSE: 0.10788841405762807\n",
      "Itteration Number: 85, Param (1): 3.4775820201350602, Param (2): 3.347244203577145, MSE: 0.1063312550343571\n",
      "Itteration Number: 86, Param (1): 3.4778769006752897, Param (2): 3.351239956212002, MSE: 0.10492429109384196\n",
      "Itteration Number: 87, Param (1): 3.4780799579732515, Param (2): 3.3551582400575506, MSE: 0.10358222379807955\n",
      "Itteration Number: 88, Param (1): 3.4782970890918983, Param (2): 3.3590850796774956, MSE: 0.1022711466260339\n",
      "Itteration Number: 89, Param (1): 3.4783778969452634, Param (2): 3.36285260005392, MSE: 0.10104620401703036\n",
      "Itteration Number: 90, Param (1): 3.4782548020577764, Param (2): 3.3665330915280176, MSE: 0.09987773926278194\n",
      "Itteration Number: 91, Param (1): 3.47825387351015, Param (2): 3.370252695283351, MSE: 0.09872370664359505\n",
      "Itteration Number: 92, Param (1): 3.478151733643436, Param (2): 3.373917385446586, MSE: 0.09761210095916749\n",
      "Itteration Number: 93, Param (1): 3.4779831680014155, Param (2): 3.377457326257428, MSE: 0.09656084505570665\n",
      "Itteration Number: 94, Param (1): 3.4776588366049186, Param (2): 3.3808291953953526, MSE: 0.09557592740241955\n",
      "Itteration Number: 95, Param (1): 3.4773538141080524, Param (2): 3.3843224138206445, MSE: 0.09457632105909225\n",
      "Itteration Number: 96, Param (1): 3.476778275286569, Param (2): 3.3874195581974686, MSE: 0.09369493870046347\n",
      "Itteration Number: 97, Param (1): 3.4762812997211365, Param (2): 3.390601274700941, MSE: 0.09280716893693727\n",
      "Itteration Number: 98, Param (1): 3.4757197344404167, Param (2): 3.393753654289633, MSE: 0.0919385619690116\n",
      "Itteration Number: 99, Param (1): 3.4751262009872654, Param (2): 3.3968818423460427, MSE: 0.09108815663782702\n"
     ]
    }
   ],
   "source": [
    "out = []\n",
    "\n",
    "for i in range(100):\n",
    "    GD_model.fit(X, y) # Singel itteration of GD\n",
    "    out.append([\n",
    "                i, GD_model.coef_[0], # Model Parameter (1)\n",
    "                GD_model.intercept_[0], # Model Parameter (2)\n",
    "                mean_squared_error(y, GD_model.predict(X))\n",
    "                ])\n",
    "    \n",
    "    df = pd.DataFrame(out, columns=[\"itteration\", \"m\", \"b\", \"MSE\"])\n",
    "    _out = out[-1]\n",
    "    print(f\"Itteration Number: {_out[0]}, Param (1): {_out[1]}, Param (2): {_out[2]}, MSE: {_out[3]}\")\n",
    "    \n",
    "    # input()\n",
    "    # break"
   ]
  },
  {
   "cell_type": "code",
   "execution_count": 6,
   "metadata": {},
   "outputs": [
    {
     "data": {
      "text/html": [
       "<div>\n",
       "<style scoped>\n",
       "    .dataframe tbody tr th:only-of-type {\n",
       "        vertical-align: middle;\n",
       "    }\n",
       "\n",
       "    .dataframe tbody tr th {\n",
       "        vertical-align: top;\n",
       "    }\n",
       "\n",
       "    .dataframe thead th {\n",
       "        text-align: right;\n",
       "    }\n",
       "</style>\n",
       "<table border=\"1\" class=\"dataframe\">\n",
       "  <thead>\n",
       "    <tr style=\"text-align: right;\">\n",
       "      <th></th>\n",
       "      <th>itteration</th>\n",
       "      <th>m</th>\n",
       "      <th>b</th>\n",
       "      <th>MSE</th>\n",
       "    </tr>\n",
       "  </thead>\n",
       "  <tbody>\n",
       "    <tr>\n",
       "      <th>0</th>\n",
       "      <td>0</td>\n",
       "      <td>0.183966</td>\n",
       "      <td>0.161422</td>\n",
       "      <td>46.753206</td>\n",
       "    </tr>\n",
       "    <tr>\n",
       "      <th>1</th>\n",
       "      <td>1</td>\n",
       "      <td>0.359372</td>\n",
       "      <td>0.315038</td>\n",
       "      <td>42.182721</td>\n",
       "    </tr>\n",
       "    <tr>\n",
       "      <th>2</th>\n",
       "      <td>2</td>\n",
       "      <td>0.523410</td>\n",
       "      <td>0.460439</td>\n",
       "      <td>38.100987</td>\n",
       "    </tr>\n",
       "    <tr>\n",
       "      <th>3</th>\n",
       "      <td>3</td>\n",
       "      <td>0.679472</td>\n",
       "      <td>0.598827</td>\n",
       "      <td>34.410561</td>\n",
       "    </tr>\n",
       "    <tr>\n",
       "      <th>4</th>\n",
       "      <td>4</td>\n",
       "      <td>0.827403</td>\n",
       "      <td>0.730316</td>\n",
       "      <td>31.083271</td>\n",
       "    </tr>\n",
       "    <tr>\n",
       "      <th>...</th>\n",
       "      <td>...</td>\n",
       "      <td>...</td>\n",
       "      <td>...</td>\n",
       "      <td>...</td>\n",
       "    </tr>\n",
       "    <tr>\n",
       "      <th>95</th>\n",
       "      <td>95</td>\n",
       "      <td>3.477354</td>\n",
       "      <td>3.384322</td>\n",
       "      <td>0.094576</td>\n",
       "    </tr>\n",
       "    <tr>\n",
       "      <th>96</th>\n",
       "      <td>96</td>\n",
       "      <td>3.476778</td>\n",
       "      <td>3.387420</td>\n",
       "      <td>0.093695</td>\n",
       "    </tr>\n",
       "    <tr>\n",
       "      <th>97</th>\n",
       "      <td>97</td>\n",
       "      <td>3.476281</td>\n",
       "      <td>3.390601</td>\n",
       "      <td>0.092807</td>\n",
       "    </tr>\n",
       "    <tr>\n",
       "      <th>98</th>\n",
       "      <td>98</td>\n",
       "      <td>3.475720</td>\n",
       "      <td>3.393754</td>\n",
       "      <td>0.091939</td>\n",
       "    </tr>\n",
       "    <tr>\n",
       "      <th>99</th>\n",
       "      <td>99</td>\n",
       "      <td>3.475126</td>\n",
       "      <td>3.396882</td>\n",
       "      <td>0.091088</td>\n",
       "    </tr>\n",
       "  </tbody>\n",
       "</table>\n",
       "<p>100 rows × 4 columns</p>\n",
       "</div>"
      ],
      "text/plain": [
       "    itteration         m         b        MSE\n",
       "0            0  0.183966  0.161422  46.753206\n",
       "1            1  0.359372  0.315038  42.182721\n",
       "2            2  0.523410  0.460439  38.100987\n",
       "3            3  0.679472  0.598827  34.410561\n",
       "4            4  0.827403  0.730316  31.083271\n",
       "..         ...       ...       ...        ...\n",
       "95          95  3.477354  3.384322   0.094576\n",
       "96          96  3.476778  3.387420   0.093695\n",
       "97          97  3.476281  3.390601   0.092807\n",
       "98          98  3.475720  3.393754   0.091939\n",
       "99          99  3.475126  3.396882   0.091088\n",
       "\n",
       "[100 rows x 4 columns]"
      ]
     },
     "execution_count": 6,
     "metadata": {},
     "output_type": "execute_result"
    }
   ],
   "source": [
    "df"
   ]
  },
  {
   "cell_type": "code",
   "execution_count": null,
   "metadata": {},
   "outputs": [],
   "source": []
  },
  {
   "cell_type": "code",
   "execution_count": null,
   "metadata": {},
   "outputs": [],
   "source": []
  },
  {
   "cell_type": "code",
   "execution_count": 7,
   "metadata": {},
   "outputs": [
    {
     "data": {
      "text/html": [
       "        <script type=\"text/javascript\">\n",
       "        window.PlotlyConfig = {MathJaxConfig: 'local'};\n",
       "        if (window.MathJax && window.MathJax.Hub && window.MathJax.Hub.Config) {window.MathJax.Hub.Config({SVG: {font: \"STIX-Web\"}});}\n",
       "        </script>\n",
       "        <script type=\"module\">import \"https://cdn.plot.ly/plotly-3.0.1.min\"</script>\n",
       "        "
      ]
     },
     "metadata": {},
     "output_type": "display_data"
    },
    {
     "data": {
      "application/vnd.plotly.v1+json": {
       "config": {
        "linkText": "Export to plot.ly",
        "plotlyServerURL": "https://plot.ly",
        "showLink": false
       },
       "data": [
        {
         "line": {
          "color": "blue",
          "width": 2
         },
         "marker": {
          "color": {
           "bdata": "ecuTD2lgR0BSwGxpYxdFQEYdDCPtDENAYOmNQ400QUCW9UxGURU/QCFJ+sVxETxA34BPNWxdOUAH+Evs4+U2QFW4bceCrTRAg0BVcfuwMkCcfDKzOuIwQJBVCJ4Wiy5A2U3CNxmXK0BaEJFfJ+koQJ2w+j8ohSZAZL0/bKdZJECLSV4miWUiQMNsEZu9oCBAicNez6QSHkAQeGhVDzUbQOHzSFRQmhhAgU5iJwJBFkAIZISMryMUQLKmKlI6OxJAV4mumtaFEEDTOGYRiO4NQG3/KBE6IAtAbduzU9iWCED2E4wo7EgGQFQ7yTnfOQRApgsnNBhfAkB7YulazK8AQKXPMWwvWv4/I2CSO9ac+z/PbMSdrh75P6gZcHPW4fY/8j6VUxDa9D+DsxPV5gXzPylQApiHX/E/YF/LEZe/7z8lxhfE1Q7tP2CcVHn6neo/f6gfwHBr6D8lMEA0TG3mP9fP47BYoOQ/suutu/L/4j/BKwuv2YfhP+5xoY7tMuA/1j0pShX93T/0ViPmIM/bP80xuVYQ1tk/F1vRth8N2D9YYtBEQ2/WPyaBxucs+dQ/m4yQXZCk0z8mbq4b9XDSPyvblN+eWdE/JFROEPBb0D/ZP3sYFOrOPzCwpZK9SM0/ZhNs8aXNyz/h7WGWMHTKP2IbBGeAOck/j1zbxpkbyD9WBGj+3RXHP1YVHTLaJsY/UlXVKVZPxT9a8rkA7YvEP5i3UWHJ18M/AbpzFZ0xwz9udDOGYZnCP7UBFm6LDcI/6v2BtIWNwT8x58FWfBnBP/hRQbCFrMA/qYQ+s/BIwD9TisD0ONm/PwuQyvx1L78/7gVEs4+Qvj9hpvyoefu9PxibEGrAcb0/9Ffa2Z7xvD9+eTiDbXm8PzQq/hY7Crw/eaz+OZOeuz99Supuhji7P0LVzX5R3Lo/ZuKoV12Euj/6ThUecS66P9FZo/0p3rk/hWi7Z5aRuT+Nx1/z9EW5P98/UE0b/bg/S6CWJza4uD9kb3r6qXe4P4S/7F0nNrg/TOuEOWT8tz9WImvrNcK3P77u5RxJibc/8vjPrY1Rtz8=",
           "dtype": "f8"
          },
          "colorscale": [
           [
            0,
            "#440154"
           ],
           [
            0.1111111111111111,
            "#482878"
           ],
           [
            0.2222222222222222,
            "#3e4989"
           ],
           [
            0.3333333333333333,
            "#31688e"
           ],
           [
            0.4444444444444444,
            "#26828e"
           ],
           [
            0.5555555555555556,
            "#1f9e89"
           ],
           [
            0.6666666666666666,
            "#35b779"
           ],
           [
            0.7777777777777778,
            "#6ece58"
           ],
           [
            0.8888888888888888,
            "#b5de2b"
           ],
           [
            1,
            "#fde725"
           ]
          ],
          "opacity": 0.8,
          "size": 5
         },
         "mode": "lines+markers",
         "type": "scatter3d",
         "x": {
          "bdata": "+9odZHupxD/itgy+linUP31jOjbWd90/RrGg+5cp4z9CIDtdwF7nP9Kjtx/vYOs/oRUkPTMu7z/DJZyeNmjxP3nmVp46IvM/9gKGuRfF9D+pPrTU/lT2P0oPD6aAz/c/HhusCuw5+T9xkUFoVJP6PwvibWee2vs/6p+SFqYS/T+gQCcXUzv+Pxh6520XVv8/MN/3i3cxAEB/yKR0V7EAQPU4r6NcKwFA3one6nifAUDso4Xo9w0CQKD8G9oodwJAn0lMDSrbAkBSjV5VrjoDQGIX3yujlQNAfag+H1fsA0AcxhYTDD8EQCefyNS5jQRAjdMGC7jYBEAVH7uISSAFQFLFca6AZAVAmbMrapulBUCmbtwqueMFQGQHLkT9HgZAbg/nN4dXBkBG4n4/gY0GQFgj7YUNwQZAhtwXIDHyBkA4JENXOiEHQOZacaMXTgdA4CeISg15B0CjuasSCaIHQFalSdc6yQdAdhL9lrvuB0DudD0OsBIIQJg1+W75NAhAdfLoEM1VCEC9Ct4bPHUIQOgE6HJHkwhAzjOi5CywCECCqZOI2csIQGE1e5885ghAJ0PAPOP/CECM18aARhgJQJ6Ji8/ALwlA7pawrz5GCUDyZWJs8lsJQC8sJzGVcAlA805M34yECUB91OKpuJcJQGe5kOMyqglAm1ihjOC7CUCffultD80JQGKc21eg3QlAuMM4GmHtCUB8m5YsbfwJQPPUpkkoCwpAC1u3u3sZCkCX15CaOycKQFoKmGONNApAMq7fE2NBCkAUq2JOk00KQOW7bVCZWQpAhWBubhplCkBrAIwsRXAKQBKi8e0AewpAy3Him3+FCkCtC/M0xY8KQL0WSzeomQpAnFs+nDqjCkAHfVFGhawKQBisxaJ0tQpAy65OLmi+CkAZtxD4J8cKQAnV5+RWzwpA5Z0PNF3XCkA5ko3/Z98KQFEAlEMf5wpA7B3I5qjuCkCX+4sLR/YKQPkw72XI/QpAQEq/WAgFC0Amrlwt8AsLQOjVM6EXEwtAqU/ibG8ZC0B/7qSP8x8LQPHV3lBoJgtAFQUqY9AsC0A=",
          "dtype": "f8"
         },
         "y": {
          "bdata": "agYQPDSMxz/NkoT68f/WP7buZWbFv+A/D+AtNDu+5T+7zYsXFnrqP/tL5lb1/u4/97oNLQuf8T/hyvooNavzP0hSscepmvU/FUMoHtNq9z85ziUHcCj5P31ciXC2x/o/GBtbHiNa/D8ajVEaT9v9P50w6SZ3Qv8/5HKprxdNAED6CCyEg+8AQDbr7pNKigFAkxaq5WocAkDgF4FbZ6YCQDTIMZSyKgNAXPEF3g2oA0AK1fqdaR4EQLNejv+XjgRA8HuDX3f3BECqrkSKYlwFQDMGIHC+uwVAGgyFLVIWBkCNvj6qIm0GQB5HKp7mvQZA68z8EgoKB0Bv9+0J7VIHQLzFhF7+lgdA8VM1/OXXB0Da5/ARQxYIQF9/x82TUAhAyv60j0yICEBpS/m6tbwIQLEHGL8h7ghAPq6VhoQdCUDIpqoBlkkJQAMUWRWrcwlASQTXfwKbCUCosFa6hsAJQAlAYPbp4wlAJhlqrzwFCkBJIyVygSQKQIvucsRJQgpAAaojB11eCkA22kNO0HgKQPXeLhHTkQpAH8BQvzWpCkC7WsqBQb8KQAuMSc0P1ApAAlDhFW/nCkDNuPnJu/kKQLzt7ajiCgtAYVsqJRgbC0A3YC4wSSoLQDvqX/aeOAtA29wxENZFC0AXhNAvVVILQLsdws8CXgtAraXnsABpC0BomfFuLXMLQNYJ/w+xfAtAH4W4KXiFC0AwWwBBmY0LQI4naRb9lAtAVeYLY9qbC0DRc5s1VaILQPsyRWNAqAtAFPWGBaOtC0CWvcTIjrILQG+23IUYtwtA8p880je7C0BObMNU9r4LQJQRiAhQwgtA3Bx+mVPFC0BK6mlOB8gLQBEy8uRgygtASVEQy2HMC0A7/c6MQs4LQODhw260zwtAx7BP6uzQC0ABGq2FFtILQE1Q3x+x0gtAA/LClRvTC0ClX5tsjdMLQMUSdMq30wtA4PHvQHfTC0CUSk/EdtMLQLAxVDdB0wtAINbU1ujSC0CE6M7LPtILQDe4YeCe0QtAjmTeIHHQC0A//e+RbM8LQP7d6yVGzgtASLQ19w7NC0A=",
          "dtype": "f8"
         },
         "z": {
          "bdata": "ecuTD2lgR0BSwGxpYxdFQEYdDCPtDENAYOmNQ400QUCW9UxGURU/QCFJ+sVxETxA34BPNWxdOUAH+Evs4+U2QFW4bceCrTRAg0BVcfuwMkCcfDKzOuIwQJBVCJ4Wiy5A2U3CNxmXK0BaEJFfJ+koQJ2w+j8ohSZAZL0/bKdZJECLSV4miWUiQMNsEZu9oCBAicNez6QSHkAQeGhVDzUbQOHzSFRQmhhAgU5iJwJBFkAIZISMryMUQLKmKlI6OxJAV4mumtaFEEDTOGYRiO4NQG3/KBE6IAtAbduzU9iWCED2E4wo7EgGQFQ7yTnfOQRApgsnNBhfAkB7YulazK8AQKXPMWwvWv4/I2CSO9ac+z/PbMSdrh75P6gZcHPW4fY/8j6VUxDa9D+DsxPV5gXzPylQApiHX/E/YF/LEZe/7z8lxhfE1Q7tP2CcVHn6neo/f6gfwHBr6D8lMEA0TG3mP9fP47BYoOQ/suutu/L/4j/BKwuv2YfhP+5xoY7tMuA/1j0pShX93T/0ViPmIM/bP80xuVYQ1tk/F1vRth8N2D9YYtBEQ2/WPyaBxucs+dQ/m4yQXZCk0z8mbq4b9XDSPyvblN+eWdE/JFROEPBb0D/ZP3sYFOrOPzCwpZK9SM0/ZhNs8aXNyz/h7WGWMHTKP2IbBGeAOck/j1zbxpkbyD9WBGj+3RXHP1YVHTLaJsY/UlXVKVZPxT9a8rkA7YvEP5i3UWHJ18M/AbpzFZ0xwz9udDOGYZnCP7UBFm6LDcI/6v2BtIWNwT8x58FWfBnBP/hRQbCFrMA/qYQ+s/BIwD9TisD0ONm/PwuQyvx1L78/7gVEs4+Qvj9hpvyoefu9PxibEGrAcb0/9Ffa2Z7xvD9+eTiDbXm8PzQq/hY7Crw/eaz+OZOeuz99Supuhji7P0LVzX5R3Lo/ZuKoV12Euj/6ThUecS66P9FZo/0p3rk/hWi7Z5aRuT+Nx1/z9EW5P98/UE0b/bg/S6CWJza4uD9kb3r6qXe4P4S/7F0nNrg/TOuEOWT8tz9WImvrNcK3P77u5RxJibc/8vjPrY1Rtz8=",
          "dtype": "f8"
         }
        }
       ],
       "layout": {
        "height": 600,
        "scene": {
         "xaxis": {
          "title": {
           "text": "b"
          }
         },
         "yaxis": {
          "title": {
           "text": "m"
          }
         },
         "zaxis": {
          "title": {
           "text": "MSE"
          }
         }
        },
        "template": {
         "data": {
          "bar": [
           {
            "error_x": {
             "color": "#2a3f5f"
            },
            "error_y": {
             "color": "#2a3f5f"
            },
            "marker": {
             "line": {
              "color": "#E5ECF6",
              "width": 0.5
             },
             "pattern": {
              "fillmode": "overlay",
              "size": 10,
              "solidity": 0.2
             }
            },
            "type": "bar"
           }
          ],
          "barpolar": [
           {
            "marker": {
             "line": {
              "color": "#E5ECF6",
              "width": 0.5
             },
             "pattern": {
              "fillmode": "overlay",
              "size": 10,
              "solidity": 0.2
             }
            },
            "type": "barpolar"
           }
          ],
          "carpet": [
           {
            "aaxis": {
             "endlinecolor": "#2a3f5f",
             "gridcolor": "white",
             "linecolor": "white",
             "minorgridcolor": "white",
             "startlinecolor": "#2a3f5f"
            },
            "baxis": {
             "endlinecolor": "#2a3f5f",
             "gridcolor": "white",
             "linecolor": "white",
             "minorgridcolor": "white",
             "startlinecolor": "#2a3f5f"
            },
            "type": "carpet"
           }
          ],
          "choropleth": [
           {
            "colorbar": {
             "outlinewidth": 0,
             "ticks": ""
            },
            "type": "choropleth"
           }
          ],
          "contour": [
           {
            "colorbar": {
             "outlinewidth": 0,
             "ticks": ""
            },
            "colorscale": [
             [
              0,
              "#0d0887"
             ],
             [
              0.1111111111111111,
              "#46039f"
             ],
             [
              0.2222222222222222,
              "#7201a8"
             ],
             [
              0.3333333333333333,
              "#9c179e"
             ],
             [
              0.4444444444444444,
              "#bd3786"
             ],
             [
              0.5555555555555556,
              "#d8576b"
             ],
             [
              0.6666666666666666,
              "#ed7953"
             ],
             [
              0.7777777777777778,
              "#fb9f3a"
             ],
             [
              0.8888888888888888,
              "#fdca26"
             ],
             [
              1,
              "#f0f921"
             ]
            ],
            "type": "contour"
           }
          ],
          "contourcarpet": [
           {
            "colorbar": {
             "outlinewidth": 0,
             "ticks": ""
            },
            "type": "contourcarpet"
           }
          ],
          "heatmap": [
           {
            "colorbar": {
             "outlinewidth": 0,
             "ticks": ""
            },
            "colorscale": [
             [
              0,
              "#0d0887"
             ],
             [
              0.1111111111111111,
              "#46039f"
             ],
             [
              0.2222222222222222,
              "#7201a8"
             ],
             [
              0.3333333333333333,
              "#9c179e"
             ],
             [
              0.4444444444444444,
              "#bd3786"
             ],
             [
              0.5555555555555556,
              "#d8576b"
             ],
             [
              0.6666666666666666,
              "#ed7953"
             ],
             [
              0.7777777777777778,
              "#fb9f3a"
             ],
             [
              0.8888888888888888,
              "#fdca26"
             ],
             [
              1,
              "#f0f921"
             ]
            ],
            "type": "heatmap"
           }
          ],
          "histogram": [
           {
            "marker": {
             "pattern": {
              "fillmode": "overlay",
              "size": 10,
              "solidity": 0.2
             }
            },
            "type": "histogram"
           }
          ],
          "histogram2d": [
           {
            "colorbar": {
             "outlinewidth": 0,
             "ticks": ""
            },
            "colorscale": [
             [
              0,
              "#0d0887"
             ],
             [
              0.1111111111111111,
              "#46039f"
             ],
             [
              0.2222222222222222,
              "#7201a8"
             ],
             [
              0.3333333333333333,
              "#9c179e"
             ],
             [
              0.4444444444444444,
              "#bd3786"
             ],
             [
              0.5555555555555556,
              "#d8576b"
             ],
             [
              0.6666666666666666,
              "#ed7953"
             ],
             [
              0.7777777777777778,
              "#fb9f3a"
             ],
             [
              0.8888888888888888,
              "#fdca26"
             ],
             [
              1,
              "#f0f921"
             ]
            ],
            "type": "histogram2d"
           }
          ],
          "histogram2dcontour": [
           {
            "colorbar": {
             "outlinewidth": 0,
             "ticks": ""
            },
            "colorscale": [
             [
              0,
              "#0d0887"
             ],
             [
              0.1111111111111111,
              "#46039f"
             ],
             [
              0.2222222222222222,
              "#7201a8"
             ],
             [
              0.3333333333333333,
              "#9c179e"
             ],
             [
              0.4444444444444444,
              "#bd3786"
             ],
             [
              0.5555555555555556,
              "#d8576b"
             ],
             [
              0.6666666666666666,
              "#ed7953"
             ],
             [
              0.7777777777777778,
              "#fb9f3a"
             ],
             [
              0.8888888888888888,
              "#fdca26"
             ],
             [
              1,
              "#f0f921"
             ]
            ],
            "type": "histogram2dcontour"
           }
          ],
          "mesh3d": [
           {
            "colorbar": {
             "outlinewidth": 0,
             "ticks": ""
            },
            "type": "mesh3d"
           }
          ],
          "parcoords": [
           {
            "line": {
             "colorbar": {
              "outlinewidth": 0,
              "ticks": ""
             }
            },
            "type": "parcoords"
           }
          ],
          "pie": [
           {
            "automargin": true,
            "type": "pie"
           }
          ],
          "scatter": [
           {
            "fillpattern": {
             "fillmode": "overlay",
             "size": 10,
             "solidity": 0.2
            },
            "type": "scatter"
           }
          ],
          "scatter3d": [
           {
            "line": {
             "colorbar": {
              "outlinewidth": 0,
              "ticks": ""
             }
            },
            "marker": {
             "colorbar": {
              "outlinewidth": 0,
              "ticks": ""
             }
            },
            "type": "scatter3d"
           }
          ],
          "scattercarpet": [
           {
            "marker": {
             "colorbar": {
              "outlinewidth": 0,
              "ticks": ""
             }
            },
            "type": "scattercarpet"
           }
          ],
          "scattergeo": [
           {
            "marker": {
             "colorbar": {
              "outlinewidth": 0,
              "ticks": ""
             }
            },
            "type": "scattergeo"
           }
          ],
          "scattergl": [
           {
            "marker": {
             "colorbar": {
              "outlinewidth": 0,
              "ticks": ""
             }
            },
            "type": "scattergl"
           }
          ],
          "scattermap": [
           {
            "marker": {
             "colorbar": {
              "outlinewidth": 0,
              "ticks": ""
             }
            },
            "type": "scattermap"
           }
          ],
          "scattermapbox": [
           {
            "marker": {
             "colorbar": {
              "outlinewidth": 0,
              "ticks": ""
             }
            },
            "type": "scattermapbox"
           }
          ],
          "scatterpolar": [
           {
            "marker": {
             "colorbar": {
              "outlinewidth": 0,
              "ticks": ""
             }
            },
            "type": "scatterpolar"
           }
          ],
          "scatterpolargl": [
           {
            "marker": {
             "colorbar": {
              "outlinewidth": 0,
              "ticks": ""
             }
            },
            "type": "scatterpolargl"
           }
          ],
          "scatterternary": [
           {
            "marker": {
             "colorbar": {
              "outlinewidth": 0,
              "ticks": ""
             }
            },
            "type": "scatterternary"
           }
          ],
          "surface": [
           {
            "colorbar": {
             "outlinewidth": 0,
             "ticks": ""
            },
            "colorscale": [
             [
              0,
              "#0d0887"
             ],
             [
              0.1111111111111111,
              "#46039f"
             ],
             [
              0.2222222222222222,
              "#7201a8"
             ],
             [
              0.3333333333333333,
              "#9c179e"
             ],
             [
              0.4444444444444444,
              "#bd3786"
             ],
             [
              0.5555555555555556,
              "#d8576b"
             ],
             [
              0.6666666666666666,
              "#ed7953"
             ],
             [
              0.7777777777777778,
              "#fb9f3a"
             ],
             [
              0.8888888888888888,
              "#fdca26"
             ],
             [
              1,
              "#f0f921"
             ]
            ],
            "type": "surface"
           }
          ],
          "table": [
           {
            "cells": {
             "fill": {
              "color": "#EBF0F8"
             },
             "line": {
              "color": "white"
             }
            },
            "header": {
             "fill": {
              "color": "#C8D4E3"
             },
             "line": {
              "color": "white"
             }
            },
            "type": "table"
           }
          ]
         },
         "layout": {
          "annotationdefaults": {
           "arrowcolor": "#2a3f5f",
           "arrowhead": 0,
           "arrowwidth": 1
          },
          "autotypenumbers": "strict",
          "coloraxis": {
           "colorbar": {
            "outlinewidth": 0,
            "ticks": ""
           }
          },
          "colorscale": {
           "diverging": [
            [
             0,
             "#8e0152"
            ],
            [
             0.1,
             "#c51b7d"
            ],
            [
             0.2,
             "#de77ae"
            ],
            [
             0.3,
             "#f1b6da"
            ],
            [
             0.4,
             "#fde0ef"
            ],
            [
             0.5,
             "#f7f7f7"
            ],
            [
             0.6,
             "#e6f5d0"
            ],
            [
             0.7,
             "#b8e186"
            ],
            [
             0.8,
             "#7fbc41"
            ],
            [
             0.9,
             "#4d9221"
            ],
            [
             1,
             "#276419"
            ]
           ],
           "sequential": [
            [
             0,
             "#0d0887"
            ],
            [
             0.1111111111111111,
             "#46039f"
            ],
            [
             0.2222222222222222,
             "#7201a8"
            ],
            [
             0.3333333333333333,
             "#9c179e"
            ],
            [
             0.4444444444444444,
             "#bd3786"
            ],
            [
             0.5555555555555556,
             "#d8576b"
            ],
            [
             0.6666666666666666,
             "#ed7953"
            ],
            [
             0.7777777777777778,
             "#fb9f3a"
            ],
            [
             0.8888888888888888,
             "#fdca26"
            ],
            [
             1,
             "#f0f921"
            ]
           ],
           "sequentialminus": [
            [
             0,
             "#0d0887"
            ],
            [
             0.1111111111111111,
             "#46039f"
            ],
            [
             0.2222222222222222,
             "#7201a8"
            ],
            [
             0.3333333333333333,
             "#9c179e"
            ],
            [
             0.4444444444444444,
             "#bd3786"
            ],
            [
             0.5555555555555556,
             "#d8576b"
            ],
            [
             0.6666666666666666,
             "#ed7953"
            ],
            [
             0.7777777777777778,
             "#fb9f3a"
            ],
            [
             0.8888888888888888,
             "#fdca26"
            ],
            [
             1,
             "#f0f921"
            ]
           ]
          },
          "colorway": [
           "#636efa",
           "#EF553B",
           "#00cc96",
           "#ab63fa",
           "#FFA15A",
           "#19d3f3",
           "#FF6692",
           "#B6E880",
           "#FF97FF",
           "#FECB52"
          ],
          "font": {
           "color": "#2a3f5f"
          },
          "geo": {
           "bgcolor": "white",
           "lakecolor": "white",
           "landcolor": "#E5ECF6",
           "showlakes": true,
           "showland": true,
           "subunitcolor": "white"
          },
          "hoverlabel": {
           "align": "left"
          },
          "hovermode": "closest",
          "mapbox": {
           "style": "light"
          },
          "paper_bgcolor": "white",
          "plot_bgcolor": "#E5ECF6",
          "polar": {
           "angularaxis": {
            "gridcolor": "white",
            "linecolor": "white",
            "ticks": ""
           },
           "bgcolor": "#E5ECF6",
           "radialaxis": {
            "gridcolor": "white",
            "linecolor": "white",
            "ticks": ""
           }
          },
          "scene": {
           "xaxis": {
            "backgroundcolor": "#E5ECF6",
            "gridcolor": "white",
            "gridwidth": 2,
            "linecolor": "white",
            "showbackground": true,
            "ticks": "",
            "zerolinecolor": "white"
           },
           "yaxis": {
            "backgroundcolor": "#E5ECF6",
            "gridcolor": "white",
            "gridwidth": 2,
            "linecolor": "white",
            "showbackground": true,
            "ticks": "",
            "zerolinecolor": "white"
           },
           "zaxis": {
            "backgroundcolor": "#E5ECF6",
            "gridcolor": "white",
            "gridwidth": 2,
            "linecolor": "white",
            "showbackground": true,
            "ticks": "",
            "zerolinecolor": "white"
           }
          },
          "shapedefaults": {
           "line": {
            "color": "#2a3f5f"
           }
          },
          "ternary": {
           "aaxis": {
            "gridcolor": "white",
            "linecolor": "white",
            "ticks": ""
           },
           "baxis": {
            "gridcolor": "white",
            "linecolor": "white",
            "ticks": ""
           },
           "bgcolor": "#E5ECF6",
           "caxis": {
            "gridcolor": "white",
            "linecolor": "white",
            "ticks": ""
           }
          },
          "title": {
           "x": 0.05
          },
          "xaxis": {
           "automargin": true,
           "gridcolor": "white",
           "linecolor": "white",
           "ticks": "",
           "title": {
            "standoff": 15
           },
           "zerolinecolor": "white",
           "zerolinewidth": 2
          },
          "yaxis": {
           "automargin": true,
           "gridcolor": "white",
           "linecolor": "white",
           "ticks": "",
           "title": {
            "standoff": 15
           },
           "zerolinecolor": "white",
           "zerolinewidth": 2
          }
         }
        },
        "title": {
         "text": ""
        },
        "width": 800
       }
      },
      "text/html": [
       "<div>            <script src=\"https://cdnjs.cloudflare.com/ajax/libs/mathjax/2.7.5/MathJax.js?config=TeX-AMS-MML_SVG\"></script><script type=\"text/javascript\">if (window.MathJax && window.MathJax.Hub && window.MathJax.Hub.Config) {window.MathJax.Hub.Config({SVG: {font: \"STIX-Web\"}});}</script>                <script type=\"text/javascript\">window.PlotlyConfig = {MathJaxConfig: 'local'};</script>\n",
       "        <script charset=\"utf-8\" src=\"https://cdn.plot.ly/plotly-3.0.1.min.js\"></script>                <div id=\"eed8d65b-b20e-4d4f-b9ad-d697b0c8823b\" class=\"plotly-graph-div\" style=\"height:600px; width:800px;\"></div>            <script type=\"text/javascript\">                window.PLOTLYENV=window.PLOTLYENV || {};                                if (document.getElementById(\"eed8d65b-b20e-4d4f-b9ad-d697b0c8823b\")) {                    Plotly.newPlot(                        \"eed8d65b-b20e-4d4f-b9ad-d697b0c8823b\",                        [{\"line\":{\"color\":\"blue\",\"width\":2},\"marker\":{\"color\":{\"dtype\":\"f8\",\"bdata\":\"ecuTD2lgR0BSwGxpYxdFQEYdDCPtDENAYOmNQ400QUCW9UxGURU\\u002fQCFJ+sVxETxA34BPNWxdOUAH+Evs4+U2QFW4bceCrTRAg0BVcfuwMkCcfDKzOuIwQJBVCJ4Wiy5A2U3CNxmXK0BaEJFfJ+koQJ2w+j8ohSZAZL0\\u002fbKdZJECLSV4miWUiQMNsEZu9oCBAicNez6QSHkAQeGhVDzUbQOHzSFRQmhhAgU5iJwJBFkAIZISMryMUQLKmKlI6OxJAV4mumtaFEEDTOGYRiO4NQG3\\u002fKBE6IAtAbduzU9iWCED2E4wo7EgGQFQ7yTnfOQRApgsnNBhfAkB7YulazK8AQKXPMWwvWv4\\u002fI2CSO9ac+z\\u002fPbMSdrh75P6gZcHPW4fY\\u002f8j6VUxDa9D+DsxPV5gXzPylQApiHX\\u002fE\\u002fYF\\u002fLEZe\\u002f7z8lxhfE1Q7tP2CcVHn6neo\\u002ff6gfwHBr6D8lMEA0TG3mP9fP47BYoOQ\\u002fsuutu\\u002fL\\u002f4j\\u002fBKwuv2YfhP+5xoY7tMuA\\u002f1j0pShX93T\\u002f0ViPmIM\\u002fbP80xuVYQ1tk\\u002fF1vRth8N2D9YYtBEQ2\\u002fWPyaBxucs+dQ\\u002fm4yQXZCk0z8mbq4b9XDSPyvblN+eWdE\\u002fJFROEPBb0D\\u002fZP3sYFOrOPzCwpZK9SM0\\u002fZhNs8aXNyz\\u002fh7WGWMHTKP2IbBGeAOck\\u002fj1zbxpkbyD9WBGj+3RXHP1YVHTLaJsY\\u002fUlXVKVZPxT9a8rkA7YvEP5i3UWHJ18M\\u002fAbpzFZ0xwz9udDOGYZnCP7UBFm6LDcI\\u002f6v2BtIWNwT8x58FWfBnBP\\u002fhRQbCFrMA\\u002fqYQ+s\\u002fBIwD9TisD0ONm\\u002fPwuQyvx1L78\\u002f7gVEs4+Qvj9hpvyoefu9PxibEGrAcb0\\u002f9Ffa2Z7xvD9+eTiDbXm8PzQq\\u002fhY7Crw\\u002feaz+OZOeuz99Supuhji7P0LVzX5R3Lo\\u002fZuKoV12Euj\\u002f6ThUecS66P9FZo\\u002f0p3rk\\u002fhWi7Z5aRuT+Nx1\\u002fz9EW5P98\\u002fUE0b\\u002fbg\\u002fS6CWJza4uD9kb3r6qXe4P4S\\u002f7F0nNrg\\u002fTOuEOWT8tz9WImvrNcK3P77u5RxJibc\\u002f8vjPrY1Rtz8=\"},\"colorscale\":[[0.0,\"#440154\"],[0.1111111111111111,\"#482878\"],[0.2222222222222222,\"#3e4989\"],[0.3333333333333333,\"#31688e\"],[0.4444444444444444,\"#26828e\"],[0.5555555555555556,\"#1f9e89\"],[0.6666666666666666,\"#35b779\"],[0.7777777777777778,\"#6ece58\"],[0.8888888888888888,\"#b5de2b\"],[1.0,\"#fde725\"]],\"opacity\":0.8,\"size\":5},\"mode\":\"lines+markers\",\"x\":{\"dtype\":\"f8\",\"bdata\":\"+9odZHupxD\\u002fitgy+linUP31jOjbWd90\\u002fRrGg+5cp4z9CIDtdwF7nP9Kjtx\\u002fvYOs\\u002foRUkPTMu7z\\u002fDJZyeNmjxP3nmVp46IvM\\u002f9gKGuRfF9D+pPrTU\\u002flT2P0oPD6aAz\\u002fc\\u002fHhusCuw5+T9xkUFoVJP6PwvibWee2vs\\u002f6p+SFqYS\\u002fT+gQCcXUzv+Pxh6520XVv8\\u002fMN\\u002f3i3cxAEB\\u002fyKR0V7EAQPU4r6NcKwFA3one6nifAUDso4Xo9w0CQKD8G9oodwJAn0lMDSrbAkBSjV5VrjoDQGIX3yujlQNAfag+H1fsA0AcxhYTDD8EQCefyNS5jQRAjdMGC7jYBEAVH7uISSAFQFLFca6AZAVAmbMrapulBUCmbtwqueMFQGQHLkT9HgZAbg\\u002fnN4dXBkBG4n4\\u002fgY0GQFgj7YUNwQZAhtwXIDHyBkA4JENXOiEHQOZacaMXTgdA4CeISg15B0CjuasSCaIHQFalSdc6yQdAdhL9lrvuB0DudD0OsBIIQJg1+W75NAhAdfLoEM1VCEC9Ct4bPHUIQOgE6HJHkwhAzjOi5CywCECCqZOI2csIQGE1e5885ghAJ0PAPOP\\u002fCECM18aARhgJQJ6Ji8\\u002fALwlA7pawrz5GCUDyZWJs8lsJQC8sJzGVcAlA805M34yECUB91OKpuJcJQGe5kOMyqglAm1ihjOC7CUCffultD80JQGKc21eg3QlAuMM4GmHtCUB8m5YsbfwJQPPUpkkoCwpAC1u3u3sZCkCX15CaOycKQFoKmGONNApAMq7fE2NBCkAUq2JOk00KQOW7bVCZWQpAhWBubhplCkBrAIwsRXAKQBKi8e0AewpAy3Him3+FCkCtC\\u002fM0xY8KQL0WSzeomQpAnFs+nDqjCkAHfVFGhawKQBisxaJ0tQpAy65OLmi+CkAZtxD4J8cKQAnV5+RWzwpA5Z0PNF3XCkA5ko3\\u002fZ98KQFEAlEMf5wpA7B3I5qjuCkCX+4sLR\\u002fYKQPkw72XI\\u002fQpAQEq\\u002fWAgFC0Amrlwt8AsLQOjVM6EXEwtAqU\\u002fibG8ZC0B\\u002f7qSP8x8LQPHV3lBoJgtAFQUqY9AsC0A=\"},\"y\":{\"dtype\":\"f8\",\"bdata\":\"agYQPDSMxz\\u002fNkoT68f\\u002fWP7buZWbFv+A\\u002fD+AtNDu+5T+7zYsXFnrqP\\u002ftL5lb1\\u002fu4\\u002f97oNLQuf8T\\u002fhyvooNavzP0hSscepmvU\\u002fFUMoHtNq9z85ziUHcCj5P31ciXC2x\\u002fo\\u002fGBtbHiNa\\u002fD8ajVEaT9v9P50w6SZ3Qv8\\u002f5HKprxdNAED6CCyEg+8AQDbr7pNKigFAkxaq5WocAkDgF4FbZ6YCQDTIMZSyKgNAXPEF3g2oA0AK1fqdaR4EQLNejv+XjgRA8HuDX3f3BECqrkSKYlwFQDMGIHC+uwVAGgyFLVIWBkCNvj6qIm0GQB5HKp7mvQZA68z8EgoKB0Bv9+0J7VIHQLzFhF7+lgdA8VM1\\u002fOXXB0Da5\\u002fARQxYIQF9\\u002fx82TUAhAyv60j0yICEBpS\\u002fm6tbwIQLEHGL8h7ghAPq6VhoQdCUDIpqoBlkkJQAMUWRWrcwlASQTXfwKbCUCosFa6hsAJQAlAYPbp4wlAJhlqrzwFCkBJIyVygSQKQIvucsRJQgpAAaojB11eCkA22kNO0HgKQPXeLhHTkQpAH8BQvzWpCkC7WsqBQb8KQAuMSc0P1ApAAlDhFW\\u002fnCkDNuPnJu\\u002fkKQLzt7ajiCgtAYVsqJRgbC0A3YC4wSSoLQDvqX\\u002faeOAtA29wxENZFC0AXhNAvVVILQLsdws8CXgtAraXnsABpC0BomfFuLXMLQNYJ\\u002fw+xfAtAH4W4KXiFC0AwWwBBmY0LQI4naRb9lAtAVeYLY9qbC0DRc5s1VaILQPsyRWNAqAtAFPWGBaOtC0CWvcTIjrILQG+23IUYtwtA8p880je7C0BObMNU9r4LQJQRiAhQwgtA3Bx+mVPFC0BK6mlOB8gLQBEy8uRgygtASVEQy2HMC0A7\\u002fc6MQs4LQODhw260zwtAx7BP6uzQC0ABGq2FFtILQE1Q3x+x0gtAA\\u002fLClRvTC0ClX5tsjdMLQMUSdMq30wtA4PHvQHfTC0CUSk\\u002fEdtMLQLAxVDdB0wtAINbU1ujSC0CE6M7LPtILQDe4YeCe0QtAjmTeIHHQC0A\\u002f\\u002fe+RbM8LQP7d6yVGzgtASLQ19w7NC0A=\"},\"z\":{\"dtype\":\"f8\",\"bdata\":\"ecuTD2lgR0BSwGxpYxdFQEYdDCPtDENAYOmNQ400QUCW9UxGURU\\u002fQCFJ+sVxETxA34BPNWxdOUAH+Evs4+U2QFW4bceCrTRAg0BVcfuwMkCcfDKzOuIwQJBVCJ4Wiy5A2U3CNxmXK0BaEJFfJ+koQJ2w+j8ohSZAZL0\\u002fbKdZJECLSV4miWUiQMNsEZu9oCBAicNez6QSHkAQeGhVDzUbQOHzSFRQmhhAgU5iJwJBFkAIZISMryMUQLKmKlI6OxJAV4mumtaFEEDTOGYRiO4NQG3\\u002fKBE6IAtAbduzU9iWCED2E4wo7EgGQFQ7yTnfOQRApgsnNBhfAkB7YulazK8AQKXPMWwvWv4\\u002fI2CSO9ac+z\\u002fPbMSdrh75P6gZcHPW4fY\\u002f8j6VUxDa9D+DsxPV5gXzPylQApiHX\\u002fE\\u002fYF\\u002fLEZe\\u002f7z8lxhfE1Q7tP2CcVHn6neo\\u002ff6gfwHBr6D8lMEA0TG3mP9fP47BYoOQ\\u002fsuutu\\u002fL\\u002f4j\\u002fBKwuv2YfhP+5xoY7tMuA\\u002f1j0pShX93T\\u002f0ViPmIM\\u002fbP80xuVYQ1tk\\u002fF1vRth8N2D9YYtBEQ2\\u002fWPyaBxucs+dQ\\u002fm4yQXZCk0z8mbq4b9XDSPyvblN+eWdE\\u002fJFROEPBb0D\\u002fZP3sYFOrOPzCwpZK9SM0\\u002fZhNs8aXNyz\\u002fh7WGWMHTKP2IbBGeAOck\\u002fj1zbxpkbyD9WBGj+3RXHP1YVHTLaJsY\\u002fUlXVKVZPxT9a8rkA7YvEP5i3UWHJ18M\\u002fAbpzFZ0xwz9udDOGYZnCP7UBFm6LDcI\\u002f6v2BtIWNwT8x58FWfBnBP\\u002fhRQbCFrMA\\u002fqYQ+s\\u002fBIwD9TisD0ONm\\u002fPwuQyvx1L78\\u002f7gVEs4+Qvj9hpvyoefu9PxibEGrAcb0\\u002f9Ffa2Z7xvD9+eTiDbXm8PzQq\\u002fhY7Crw\\u002feaz+OZOeuz99Supuhji7P0LVzX5R3Lo\\u002fZuKoV12Euj\\u002f6ThUecS66P9FZo\\u002f0p3rk\\u002fhWi7Z5aRuT+Nx1\\u002fz9EW5P98\\u002fUE0b\\u002fbg\\u002fS6CWJza4uD9kb3r6qXe4P4S\\u002f7F0nNrg\\u002fTOuEOWT8tz9WImvrNcK3P77u5RxJibc\\u002f8vjPrY1Rtz8=\"},\"type\":\"scatter3d\"}],                        {\"height\":600,\"scene\":{\"xaxis\":{\"title\":{\"text\":\"b\"}},\"yaxis\":{\"title\":{\"text\":\"m\"}},\"zaxis\":{\"title\":{\"text\":\"MSE\"}}},\"template\":{\"data\":{\"barpolar\":[{\"marker\":{\"line\":{\"color\":\"#E5ECF6\",\"width\":0.5},\"pattern\":{\"fillmode\":\"overlay\",\"size\":10,\"solidity\":0.2}},\"type\":\"barpolar\"}],\"bar\":[{\"error_x\":{\"color\":\"#2a3f5f\"},\"error_y\":{\"color\":\"#2a3f5f\"},\"marker\":{\"line\":{\"color\":\"#E5ECF6\",\"width\":0.5},\"pattern\":{\"fillmode\":\"overlay\",\"size\":10,\"solidity\":0.2}},\"type\":\"bar\"}],\"carpet\":[{\"aaxis\":{\"endlinecolor\":\"#2a3f5f\",\"gridcolor\":\"white\",\"linecolor\":\"white\",\"minorgridcolor\":\"white\",\"startlinecolor\":\"#2a3f5f\"},\"baxis\":{\"endlinecolor\":\"#2a3f5f\",\"gridcolor\":\"white\",\"linecolor\":\"white\",\"minorgridcolor\":\"white\",\"startlinecolor\":\"#2a3f5f\"},\"type\":\"carpet\"}],\"choropleth\":[{\"colorbar\":{\"outlinewidth\":0,\"ticks\":\"\"},\"type\":\"choropleth\"}],\"contourcarpet\":[{\"colorbar\":{\"outlinewidth\":0,\"ticks\":\"\"},\"type\":\"contourcarpet\"}],\"contour\":[{\"colorbar\":{\"outlinewidth\":0,\"ticks\":\"\"},\"colorscale\":[[0.0,\"#0d0887\"],[0.1111111111111111,\"#46039f\"],[0.2222222222222222,\"#7201a8\"],[0.3333333333333333,\"#9c179e\"],[0.4444444444444444,\"#bd3786\"],[0.5555555555555556,\"#d8576b\"],[0.6666666666666666,\"#ed7953\"],[0.7777777777777778,\"#fb9f3a\"],[0.8888888888888888,\"#fdca26\"],[1.0,\"#f0f921\"]],\"type\":\"contour\"}],\"heatmap\":[{\"colorbar\":{\"outlinewidth\":0,\"ticks\":\"\"},\"colorscale\":[[0.0,\"#0d0887\"],[0.1111111111111111,\"#46039f\"],[0.2222222222222222,\"#7201a8\"],[0.3333333333333333,\"#9c179e\"],[0.4444444444444444,\"#bd3786\"],[0.5555555555555556,\"#d8576b\"],[0.6666666666666666,\"#ed7953\"],[0.7777777777777778,\"#fb9f3a\"],[0.8888888888888888,\"#fdca26\"],[1.0,\"#f0f921\"]],\"type\":\"heatmap\"}],\"histogram2dcontour\":[{\"colorbar\":{\"outlinewidth\":0,\"ticks\":\"\"},\"colorscale\":[[0.0,\"#0d0887\"],[0.1111111111111111,\"#46039f\"],[0.2222222222222222,\"#7201a8\"],[0.3333333333333333,\"#9c179e\"],[0.4444444444444444,\"#bd3786\"],[0.5555555555555556,\"#d8576b\"],[0.6666666666666666,\"#ed7953\"],[0.7777777777777778,\"#fb9f3a\"],[0.8888888888888888,\"#fdca26\"],[1.0,\"#f0f921\"]],\"type\":\"histogram2dcontour\"}],\"histogram2d\":[{\"colorbar\":{\"outlinewidth\":0,\"ticks\":\"\"},\"colorscale\":[[0.0,\"#0d0887\"],[0.1111111111111111,\"#46039f\"],[0.2222222222222222,\"#7201a8\"],[0.3333333333333333,\"#9c179e\"],[0.4444444444444444,\"#bd3786\"],[0.5555555555555556,\"#d8576b\"],[0.6666666666666666,\"#ed7953\"],[0.7777777777777778,\"#fb9f3a\"],[0.8888888888888888,\"#fdca26\"],[1.0,\"#f0f921\"]],\"type\":\"histogram2d\"}],\"histogram\":[{\"marker\":{\"pattern\":{\"fillmode\":\"overlay\",\"size\":10,\"solidity\":0.2}},\"type\":\"histogram\"}],\"mesh3d\":[{\"colorbar\":{\"outlinewidth\":0,\"ticks\":\"\"},\"type\":\"mesh3d\"}],\"parcoords\":[{\"line\":{\"colorbar\":{\"outlinewidth\":0,\"ticks\":\"\"}},\"type\":\"parcoords\"}],\"pie\":[{\"automargin\":true,\"type\":\"pie\"}],\"scatter3d\":[{\"line\":{\"colorbar\":{\"outlinewidth\":0,\"ticks\":\"\"}},\"marker\":{\"colorbar\":{\"outlinewidth\":0,\"ticks\":\"\"}},\"type\":\"scatter3d\"}],\"scattercarpet\":[{\"marker\":{\"colorbar\":{\"outlinewidth\":0,\"ticks\":\"\"}},\"type\":\"scattercarpet\"}],\"scattergeo\":[{\"marker\":{\"colorbar\":{\"outlinewidth\":0,\"ticks\":\"\"}},\"type\":\"scattergeo\"}],\"scattergl\":[{\"marker\":{\"colorbar\":{\"outlinewidth\":0,\"ticks\":\"\"}},\"type\":\"scattergl\"}],\"scattermapbox\":[{\"marker\":{\"colorbar\":{\"outlinewidth\":0,\"ticks\":\"\"}},\"type\":\"scattermapbox\"}],\"scattermap\":[{\"marker\":{\"colorbar\":{\"outlinewidth\":0,\"ticks\":\"\"}},\"type\":\"scattermap\"}],\"scatterpolargl\":[{\"marker\":{\"colorbar\":{\"outlinewidth\":0,\"ticks\":\"\"}},\"type\":\"scatterpolargl\"}],\"scatterpolar\":[{\"marker\":{\"colorbar\":{\"outlinewidth\":0,\"ticks\":\"\"}},\"type\":\"scatterpolar\"}],\"scatter\":[{\"fillpattern\":{\"fillmode\":\"overlay\",\"size\":10,\"solidity\":0.2},\"type\":\"scatter\"}],\"scatterternary\":[{\"marker\":{\"colorbar\":{\"outlinewidth\":0,\"ticks\":\"\"}},\"type\":\"scatterternary\"}],\"surface\":[{\"colorbar\":{\"outlinewidth\":0,\"ticks\":\"\"},\"colorscale\":[[0.0,\"#0d0887\"],[0.1111111111111111,\"#46039f\"],[0.2222222222222222,\"#7201a8\"],[0.3333333333333333,\"#9c179e\"],[0.4444444444444444,\"#bd3786\"],[0.5555555555555556,\"#d8576b\"],[0.6666666666666666,\"#ed7953\"],[0.7777777777777778,\"#fb9f3a\"],[0.8888888888888888,\"#fdca26\"],[1.0,\"#f0f921\"]],\"type\":\"surface\"}],\"table\":[{\"cells\":{\"fill\":{\"color\":\"#EBF0F8\"},\"line\":{\"color\":\"white\"}},\"header\":{\"fill\":{\"color\":\"#C8D4E3\"},\"line\":{\"color\":\"white\"}},\"type\":\"table\"}]},\"layout\":{\"annotationdefaults\":{\"arrowcolor\":\"#2a3f5f\",\"arrowhead\":0,\"arrowwidth\":1},\"autotypenumbers\":\"strict\",\"coloraxis\":{\"colorbar\":{\"outlinewidth\":0,\"ticks\":\"\"}},\"colorscale\":{\"diverging\":[[0,\"#8e0152\"],[0.1,\"#c51b7d\"],[0.2,\"#de77ae\"],[0.3,\"#f1b6da\"],[0.4,\"#fde0ef\"],[0.5,\"#f7f7f7\"],[0.6,\"#e6f5d0\"],[0.7,\"#b8e186\"],[0.8,\"#7fbc41\"],[0.9,\"#4d9221\"],[1,\"#276419\"]],\"sequential\":[[0.0,\"#0d0887\"],[0.1111111111111111,\"#46039f\"],[0.2222222222222222,\"#7201a8\"],[0.3333333333333333,\"#9c179e\"],[0.4444444444444444,\"#bd3786\"],[0.5555555555555556,\"#d8576b\"],[0.6666666666666666,\"#ed7953\"],[0.7777777777777778,\"#fb9f3a\"],[0.8888888888888888,\"#fdca26\"],[1.0,\"#f0f921\"]],\"sequentialminus\":[[0.0,\"#0d0887\"],[0.1111111111111111,\"#46039f\"],[0.2222222222222222,\"#7201a8\"],[0.3333333333333333,\"#9c179e\"],[0.4444444444444444,\"#bd3786\"],[0.5555555555555556,\"#d8576b\"],[0.6666666666666666,\"#ed7953\"],[0.7777777777777778,\"#fb9f3a\"],[0.8888888888888888,\"#fdca26\"],[1.0,\"#f0f921\"]]},\"colorway\":[\"#636efa\",\"#EF553B\",\"#00cc96\",\"#ab63fa\",\"#FFA15A\",\"#19d3f3\",\"#FF6692\",\"#B6E880\",\"#FF97FF\",\"#FECB52\"],\"font\":{\"color\":\"#2a3f5f\"},\"geo\":{\"bgcolor\":\"white\",\"lakecolor\":\"white\",\"landcolor\":\"#E5ECF6\",\"showlakes\":true,\"showland\":true,\"subunitcolor\":\"white\"},\"hoverlabel\":{\"align\":\"left\"},\"hovermode\":\"closest\",\"mapbox\":{\"style\":\"light\"},\"paper_bgcolor\":\"white\",\"plot_bgcolor\":\"#E5ECF6\",\"polar\":{\"angularaxis\":{\"gridcolor\":\"white\",\"linecolor\":\"white\",\"ticks\":\"\"},\"bgcolor\":\"#E5ECF6\",\"radialaxis\":{\"gridcolor\":\"white\",\"linecolor\":\"white\",\"ticks\":\"\"}},\"scene\":{\"xaxis\":{\"backgroundcolor\":\"#E5ECF6\",\"gridcolor\":\"white\",\"gridwidth\":2,\"linecolor\":\"white\",\"showbackground\":true,\"ticks\":\"\",\"zerolinecolor\":\"white\"},\"yaxis\":{\"backgroundcolor\":\"#E5ECF6\",\"gridcolor\":\"white\",\"gridwidth\":2,\"linecolor\":\"white\",\"showbackground\":true,\"ticks\":\"\",\"zerolinecolor\":\"white\"},\"zaxis\":{\"backgroundcolor\":\"#E5ECF6\",\"gridcolor\":\"white\",\"gridwidth\":2,\"linecolor\":\"white\",\"showbackground\":true,\"ticks\":\"\",\"zerolinecolor\":\"white\"}},\"shapedefaults\":{\"line\":{\"color\":\"#2a3f5f\"}},\"ternary\":{\"aaxis\":{\"gridcolor\":\"white\",\"linecolor\":\"white\",\"ticks\":\"\"},\"baxis\":{\"gridcolor\":\"white\",\"linecolor\":\"white\",\"ticks\":\"\"},\"bgcolor\":\"#E5ECF6\",\"caxis\":{\"gridcolor\":\"white\",\"linecolor\":\"white\",\"ticks\":\"\"}},\"title\":{\"x\":0.05},\"xaxis\":{\"automargin\":true,\"gridcolor\":\"white\",\"linecolor\":\"white\",\"ticks\":\"\",\"title\":{\"standoff\":15},\"zerolinecolor\":\"white\",\"zerolinewidth\":2},\"yaxis\":{\"automargin\":true,\"gridcolor\":\"white\",\"linecolor\":\"white\",\"ticks\":\"\",\"title\":{\"standoff\":15},\"zerolinecolor\":\"white\",\"zerolinewidth\":2}}},\"title\":{\"text\":\"\"},\"width\":800},                        {\"responsive\": true}                    ).then(function(){\n",
       "                            \n",
       "var gd = document.getElementById('eed8d65b-b20e-4d4f-b9ad-d697b0c8823b');\n",
       "var x = new MutationObserver(function (mutations, observer) {{\n",
       "        var display = window.getComputedStyle(gd).display;\n",
       "        if (!display || display === 'none') {{\n",
       "            console.log([gd, 'removed!']);\n",
       "            Plotly.purge(gd);\n",
       "            observer.disconnect();\n",
       "        }}\n",
       "}});\n",
       "\n",
       "// Listen for the removal of the full notebook cells\n",
       "var notebookContainer = gd.closest('#notebook-container');\n",
       "if (notebookContainer) {{\n",
       "    x.observe(notebookContainer, {childList: true});\n",
       "}}\n",
       "\n",
       "// Listen for the clearing of the current output cell\n",
       "var outputEl = gd.closest('.output');\n",
       "if (outputEl) {{\n",
       "    x.observe(outputEl, {childList: true});\n",
       "}}\n",
       "\n",
       "                        })                };            </script>        </div>"
      ]
     },
     "metadata": {},
     "output_type": "display_data"
    }
   ],
   "source": [
    "init_notebook_mode(connected=True)\n",
    "\n",
    "trace = go.Scatter3d(\n",
    "    x=df['b'],\n",
    "    y=df['m'],\n",
    "    z=df['MSE'],\n",
    "    mode='lines+markers',\n",
    "    marker=dict(size=5, color=df['MSE'], colorscale='Viridis', opacity=0.8),\n",
    "    line=dict(color='blue', width=2)\n",
    ")\n",
    "\n",
    "layout = go.Layout(\n",
    "    title='',\n",
    "    scene=dict(\n",
    "        xaxis=dict(title='b'),\n",
    "        yaxis=dict(title='m'),\n",
    "        zaxis=dict(title='MSE')\n",
    "    ),\n",
    "    width=800,\n",
    "    height=600\n",
    ")\n",
    "\n",
    "fig = go.Figure(data=[trace], layout=layout)\n",
    "iplot(fig)"
   ]
  },
  {
   "cell_type": "code",
   "execution_count": null,
   "metadata": {},
   "outputs": [],
   "source": []
  },
  {
   "cell_type": "code",
   "execution_count": null,
   "metadata": {},
   "outputs": [],
   "source": []
  }
 ],
 "metadata": {
  "kernelspec": {
   "display_name": "my_virtual_env",
   "language": "python",
   "name": "python3"
  },
  "language_info": {
   "codemirror_mode": {
    "name": "ipython",
    "version": 3
   },
   "file_extension": ".py",
   "mimetype": "text/x-python",
   "name": "python",
   "nbconvert_exporter": "python",
   "pygments_lexer": "ipython3",
   "version": "3.12.7"
  }
 },
 "nbformat": 4,
 "nbformat_minor": 4
}
